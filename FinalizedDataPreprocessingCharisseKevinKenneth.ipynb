{
 "cells": [
  {
   "cell_type": "markdown",
   "metadata": {},
   "source": [
    "# Finalized Data Preprocessing and Model Creation"
   ]
  },
  {
   "cell_type": "code",
   "execution_count": 55,
   "metadata": {},
   "outputs": [
    {
     "name": "stdout",
     "output_type": "stream",
     "text": [
      "Requirement already satisfied: pandas in c:\\users\\mboyk\\miniconda3\\lib\\site-packages (from -r requirements.txt (line 1)) (2.0.3)\n",
      "Requirement already satisfied: numpy in c:\\users\\mboyk\\miniconda3\\lib\\site-packages (from -r requirements.txt (line 2)) (1.24.1)\n",
      "Requirement already satisfied: matplotlib in c:\\users\\mboyk\\miniconda3\\lib\\site-packages (from -r requirements.txt (line 3)) (3.8.0)\n",
      "Requirement already satisfied: seaborn in c:\\users\\mboyk\\miniconda3\\lib\\site-packages (from -r requirements.txt (line 4)) (0.13.0)\n",
      "Requirement already satisfied: yfinance in c:\\users\\mboyk\\miniconda3\\lib\\site-packages (from -r requirements.txt (line 5)) (0.2.37)\n",
      "Requirement already satisfied: scikit-learn in c:\\users\\mboyk\\miniconda3\\lib\\site-packages (from -r requirements.txt (line 6)) (1.3.0)\n",
      "Requirement already satisfied: sklearn.preprocessing in c:\\users\\mboyk\\miniconda3\\lib\\site-packages (from -r requirements.txt (line 7)) (0.1.0)\n",
      "Requirement already satisfied: scikeras in c:\\users\\mboyk\\miniconda3\\lib\\site-packages (from -r requirements.txt (line 8)) (0.12.0)\n",
      "Requirement already satisfied: keras in c:\\users\\mboyk\\miniconda3\\lib\\site-packages (from -r requirements.txt (line 9)) (2.15.0)\n",
      "Requirement already satisfied: tensorflow in c:\\users\\mboyk\\miniconda3\\lib\\site-packages (from -r requirements.txt (line 10)) (2.15.0)\n",
      "Requirement already satisfied: python-dateutil>=2.8.2 in c:\\users\\mboyk\\miniconda3\\lib\\site-packages (from pandas->-r requirements.txt (line 1)) (2.8.2)\n",
      "Requirement already satisfied: pytz>=2020.1 in c:\\users\\mboyk\\miniconda3\\lib\\site-packages (from pandas->-r requirements.txt (line 1)) (2022.7)\n",
      "Requirement already satisfied: tzdata>=2022.1 in c:\\users\\mboyk\\miniconda3\\lib\\site-packages (from pandas->-r requirements.txt (line 1)) (2023.3)\n",
      "Requirement already satisfied: contourpy>=1.0.1 in c:\\users\\mboyk\\miniconda3\\lib\\site-packages (from matplotlib->-r requirements.txt (line 3)) (1.1.1)\n",
      "Requirement already satisfied: cycler>=0.10 in c:\\users\\mboyk\\miniconda3\\lib\\site-packages (from matplotlib->-r requirements.txt (line 3)) (0.12.1)\n",
      "Requirement already satisfied: fonttools>=4.22.0 in c:\\users\\mboyk\\miniconda3\\lib\\site-packages (from matplotlib->-r requirements.txt (line 3)) (4.41.1)\n",
      "Requirement already satisfied: kiwisolver>=1.0.1 in c:\\users\\mboyk\\miniconda3\\lib\\site-packages (from matplotlib->-r requirements.txt (line 3)) (1.4.5)\n",
      "Requirement already satisfied: packaging>=20.0 in c:\\users\\mboyk\\miniconda3\\lib\\site-packages (from matplotlib->-r requirements.txt (line 3)) (23.0)\n",
      "Requirement already satisfied: pillow>=6.2.0 in c:\\users\\mboyk\\miniconda3\\lib\\site-packages (from matplotlib->-r requirements.txt (line 3)) (9.3.0)\n",
      "Requirement already satisfied: pyparsing>=2.3.1 in c:\\users\\mboyk\\miniconda3\\lib\\site-packages (from matplotlib->-r requirements.txt (line 3)) (3.1.1)\n",
      "Requirement already satisfied: requests>=2.31 in c:\\users\\mboyk\\miniconda3\\lib\\site-packages (from yfinance->-r requirements.txt (line 5)) (2.31.0)\n",
      "Requirement already satisfied: multitasking>=0.0.7 in c:\\users\\mboyk\\miniconda3\\lib\\site-packages (from yfinance->-r requirements.txt (line 5)) (0.0.11)\n",
      "Requirement already satisfied: lxml>=4.9.1 in c:\\users\\mboyk\\miniconda3\\lib\\site-packages (from yfinance->-r requirements.txt (line 5)) (5.1.0)\n",
      "Requirement already satisfied: appdirs>=1.4.4 in c:\\users\\mboyk\\miniconda3\\lib\\site-packages (from yfinance->-r requirements.txt (line 5)) (1.4.4)\n",
      "Requirement already satisfied: frozendict>=2.3.4 in c:\\users\\mboyk\\miniconda3\\lib\\site-packages (from yfinance->-r requirements.txt (line 5)) (2.4.0)\n",
      "Requirement already satisfied: peewee>=3.16.2 in c:\\users\\mboyk\\miniconda3\\lib\\site-packages (from yfinance->-r requirements.txt (line 5)) (3.17.1)\n",
      "Requirement already satisfied: beautifulsoup4>=4.11.1 in c:\\users\\mboyk\\miniconda3\\lib\\site-packages (from yfinance->-r requirements.txt (line 5)) (4.12.3)\n",
      "Requirement already satisfied: html5lib>=1.1 in c:\\users\\mboyk\\miniconda3\\lib\\site-packages (from yfinance->-r requirements.txt (line 5)) (1.1)\n",
      "Requirement already satisfied: scipy>=1.5.0 in c:\\users\\mboyk\\miniconda3\\lib\\site-packages (from scikit-learn->-r requirements.txt (line 6)) (1.11.1)\n",
      "Requirement already satisfied: joblib>=1.1.1 in c:\\users\\mboyk\\miniconda3\\lib\\site-packages (from scikit-learn->-r requirements.txt (line 6)) (1.3.1)\n",
      "Requirement already satisfied: threadpoolctl>=2.0.0 in c:\\users\\mboyk\\miniconda3\\lib\\site-packages (from scikit-learn->-r requirements.txt (line 6)) (3.2.0)\n",
      "Requirement already satisfied: tensorflow-io-gcs-filesystem<0.32,>=0.23.1 in c:\\users\\mboyk\\miniconda3\\lib\\site-packages (from scikeras->-r requirements.txt (line 8)) (0.31.0)\n",
      "Requirement already satisfied: tensorflow-intel==2.15.0 in c:\\users\\mboyk\\miniconda3\\lib\\site-packages (from tensorflow->-r requirements.txt (line 10)) (2.15.0)\n",
      "Requirement already satisfied: absl-py>=1.0.0 in c:\\users\\mboyk\\miniconda3\\lib\\site-packages (from tensorflow-intel==2.15.0->tensorflow->-r requirements.txt (line 10)) (2.0.0)\n",
      "Requirement already satisfied: astunparse>=1.6.0 in c:\\users\\mboyk\\miniconda3\\lib\\site-packages (from tensorflow-intel==2.15.0->tensorflow->-r requirements.txt (line 10)) (1.6.3)\n",
      "Requirement already satisfied: flatbuffers>=23.5.26 in c:\\users\\mboyk\\miniconda3\\lib\\site-packages (from tensorflow-intel==2.15.0->tensorflow->-r requirements.txt (line 10)) (23.5.26)\n",
      "Requirement already satisfied: gast!=0.5.0,!=0.5.1,!=0.5.2,>=0.2.1 in c:\\users\\mboyk\\miniconda3\\lib\\site-packages (from tensorflow-intel==2.15.0->tensorflow->-r requirements.txt (line 10)) (0.5.4)\n",
      "Requirement already satisfied: google-pasta>=0.1.1 in c:\\users\\mboyk\\miniconda3\\lib\\site-packages (from tensorflow-intel==2.15.0->tensorflow->-r requirements.txt (line 10)) (0.2.0)\n",
      "Requirement already satisfied: h5py>=2.9.0 in c:\\users\\mboyk\\miniconda3\\lib\\site-packages (from tensorflow-intel==2.15.0->tensorflow->-r requirements.txt (line 10)) (3.10.0)\n",
      "Requirement already satisfied: libclang>=13.0.0 in c:\\users\\mboyk\\miniconda3\\lib\\site-packages (from tensorflow-intel==2.15.0->tensorflow->-r requirements.txt (line 10)) (16.0.6)\n",
      "Requirement already satisfied: ml-dtypes~=0.2.0 in c:\\users\\mboyk\\miniconda3\\lib\\site-packages (from tensorflow-intel==2.15.0->tensorflow->-r requirements.txt (line 10)) (0.2.0)\n",
      "Requirement already satisfied: opt-einsum>=2.3.2 in c:\\users\\mboyk\\miniconda3\\lib\\site-packages (from tensorflow-intel==2.15.0->tensorflow->-r requirements.txt (line 10)) (3.3.0)\n",
      "Requirement already satisfied: protobuf!=4.21.0,!=4.21.1,!=4.21.2,!=4.21.3,!=4.21.4,!=4.21.5,<5.0.0dev,>=3.20.3 in c:\\users\\mboyk\\miniconda3\\lib\\site-packages (from tensorflow-intel==2.15.0->tensorflow->-r requirements.txt (line 10)) (4.24.1)\n",
      "Requirement already satisfied: setuptools in c:\\users\\mboyk\\miniconda3\\lib\\site-packages (from tensorflow-intel==2.15.0->tensorflow->-r requirements.txt (line 10)) (65.6.3)\n",
      "Requirement already satisfied: six>=1.12.0 in c:\\users\\mboyk\\miniconda3\\lib\\site-packages (from tensorflow-intel==2.15.0->tensorflow->-r requirements.txt (line 10)) (1.16.0)\n",
      "Requirement already satisfied: termcolor>=1.1.0 in c:\\users\\mboyk\\miniconda3\\lib\\site-packages (from tensorflow-intel==2.15.0->tensorflow->-r requirements.txt (line 10)) (2.4.0)\n",
      "Requirement already satisfied: typing-extensions>=3.6.6 in c:\\users\\mboyk\\miniconda3\\lib\\site-packages (from tensorflow-intel==2.15.0->tensorflow->-r requirements.txt (line 10)) (4.4.0)\n",
      "Requirement already satisfied: wrapt<1.15,>=1.11.0 in c:\\users\\mboyk\\miniconda3\\lib\\site-packages (from tensorflow-intel==2.15.0->tensorflow->-r requirements.txt (line 10)) (1.14.1)\n",
      "Requirement already satisfied: grpcio<2.0,>=1.24.3 in c:\\users\\mboyk\\miniconda3\\lib\\site-packages (from tensorflow-intel==2.15.0->tensorflow->-r requirements.txt (line 10)) (1.62.0)\n",
      "Requirement already satisfied: tensorboard<2.16,>=2.15 in c:\\users\\mboyk\\miniconda3\\lib\\site-packages (from tensorflow-intel==2.15.0->tensorflow->-r requirements.txt (line 10)) (2.15.2)\n",
      "Requirement already satisfied: tensorflow-estimator<2.16,>=2.15.0 in c:\\users\\mboyk\\miniconda3\\lib\\site-packages (from tensorflow-intel==2.15.0->tensorflow->-r requirements.txt (line 10)) (2.15.0)\n",
      "Requirement already satisfied: soupsieve>1.2 in c:\\users\\mboyk\\miniconda3\\lib\\site-packages (from beautifulsoup4>=4.11.1->yfinance->-r requirements.txt (line 5)) (2.5)\n",
      "Requirement already satisfied: webencodings in c:\\users\\mboyk\\miniconda3\\lib\\site-packages (from html5lib>=1.1->yfinance->-r requirements.txt (line 5)) (0.5.1)\n",
      "Requirement already satisfied: charset-normalizer<4,>=2 in c:\\users\\mboyk\\miniconda3\\lib\\site-packages (from requests>=2.31->yfinance->-r requirements.txt (line 5)) (2.0.4)\n",
      "Requirement already satisfied: idna<4,>=2.5 in c:\\users\\mboyk\\miniconda3\\lib\\site-packages (from requests>=2.31->yfinance->-r requirements.txt (line 5)) (3.4)\n",
      "Requirement already satisfied: urllib3<3,>=1.21.1 in c:\\users\\mboyk\\miniconda3\\lib\\site-packages (from requests>=2.31->yfinance->-r requirements.txt (line 5)) (1.26.14)\n",
      "Requirement already satisfied: certifi>=2017.4.17 in c:\\users\\mboyk\\miniconda3\\lib\\site-packages (from requests>=2.31->yfinance->-r requirements.txt (line 5)) (2023.7.22)\n",
      "Requirement already satisfied: wheel<1.0,>=0.23.0 in c:\\users\\mboyk\\miniconda3\\lib\\site-packages (from astunparse>=1.6.0->tensorflow-intel==2.15.0->tensorflow->-r requirements.txt (line 10)) (0.37.1)\n",
      "Requirement already satisfied: google-auth<3,>=1.6.3 in c:\\users\\mboyk\\miniconda3\\lib\\site-packages (from tensorboard<2.16,>=2.15->tensorflow-intel==2.15.0->tensorflow->-r requirements.txt (line 10)) (2.28.1)\n",
      "Requirement already satisfied: google-auth-oauthlib<2,>=0.5 in c:\\users\\mboyk\\miniconda3\\lib\\site-packages (from tensorboard<2.16,>=2.15->tensorflow-intel==2.15.0->tensorflow->-r requirements.txt (line 10)) (1.2.0)\n",
      "Requirement already satisfied: markdown>=2.6.8 in c:\\users\\mboyk\\miniconda3\\lib\\site-packages (from tensorboard<2.16,>=2.15->tensorflow-intel==2.15.0->tensorflow->-r requirements.txt (line 10)) (3.5.2)\n",
      "Requirement already satisfied: tensorboard-data-server<0.8.0,>=0.7.0 in c:\\users\\mboyk\\miniconda3\\lib\\site-packages (from tensorboard<2.16,>=2.15->tensorflow-intel==2.15.0->tensorflow->-r requirements.txt (line 10)) (0.7.2)\n",
      "Requirement already satisfied: werkzeug>=1.0.1 in c:\\users\\mboyk\\miniconda3\\lib\\site-packages (from tensorboard<2.16,>=2.15->tensorflow-intel==2.15.0->tensorflow->-r requirements.txt (line 10)) (2.3.7)\n",
      "Requirement already satisfied: cachetools<6.0,>=2.0.0 in c:\\users\\mboyk\\miniconda3\\lib\\site-packages (from google-auth<3,>=1.6.3->tensorboard<2.16,>=2.15->tensorflow-intel==2.15.0->tensorflow->-r requirements.txt (line 10)) (5.3.1)\n",
      "Requirement already satisfied: pyasn1-modules>=0.2.1 in c:\\users\\mboyk\\miniconda3\\lib\\site-packages (from google-auth<3,>=1.6.3->tensorboard<2.16,>=2.15->tensorflow-intel==2.15.0->tensorflow->-r requirements.txt (line 10)) (0.3.0)\n",
      "Requirement already satisfied: rsa<5,>=3.1.4 in c:\\users\\mboyk\\miniconda3\\lib\\site-packages (from google-auth<3,>=1.6.3->tensorboard<2.16,>=2.15->tensorflow-intel==2.15.0->tensorflow->-r requirements.txt (line 10)) (4.9)\n",
      "Requirement already satisfied: requests-oauthlib>=0.7.0 in c:\\users\\mboyk\\miniconda3\\lib\\site-packages (from google-auth-oauthlib<2,>=0.5->tensorboard<2.16,>=2.15->tensorflow-intel==2.15.0->tensorflow->-r requirements.txt (line 10)) (1.3.1)\n",
      "Requirement already satisfied: MarkupSafe>=2.1.1 in c:\\users\\mboyk\\miniconda3\\lib\\site-packages (from werkzeug>=1.0.1->tensorboard<2.16,>=2.15->tensorflow-intel==2.15.0->tensorflow->-r requirements.txt (line 10)) (2.1.2)\n",
      "Requirement already satisfied: pyasn1<0.6.0,>=0.4.6 in c:\\users\\mboyk\\miniconda3\\lib\\site-packages (from pyasn1-modules>=0.2.1->google-auth<3,>=1.6.3->tensorboard<2.16,>=2.15->tensorflow-intel==2.15.0->tensorflow->-r requirements.txt (line 10)) (0.5.1)\n",
      "Requirement already satisfied: oauthlib>=3.0.0 in c:\\users\\mboyk\\miniconda3\\lib\\site-packages (from requests-oauthlib>=0.7.0->google-auth-oauthlib<2,>=0.5->tensorboard<2.16,>=2.15->tensorflow-intel==2.15.0->tensorflow->-r requirements.txt (line 10)) (3.2.2)\n"
     ]
    },
    {
     "name": "stderr",
     "output_type": "stream",
     "text": [
      "\n",
      "[notice] A new release of pip is available: 23.3.1 -> 24.0\n",
      "[notice] To update, run: C:\\Users\\mboyk\\miniconda3\\python.exe -m pip install --upgrade pip\n"
     ]
    }
   ],
   "source": [
    "!pip3 install -r requirements.txt"
   ]
  },
  {
   "cell_type": "markdown",
   "metadata": {},
   "source": [
    "## Data Preprocessing"
   ]
  },
  {
   "cell_type": "code",
   "execution_count": 56,
   "metadata": {},
   "outputs": [],
   "source": [
    "# for data processing\n",
    "import pandas as pd\n",
    "import numpy as np\n",
    "import matplotlib.pyplot as plt\n",
    "from sklearn.preprocessing import LabelEncoder, OneHotEncoder\n",
    "from sklearn.model_selection import train_test_split\n",
    "from datetime import datetime, timedelta\n",
    "import yfinance as yf\n",
    "from sklearn import linear_model\n",
    "# Split later\n",
    "from sklearn.linear_model import ARDRegression, LinearRegression\n",
    "from sklearn.metrics import mean_squared_error, confusion_matrix, precision_score, accuracy_score, recall_score\n",
    "from sklearn.preprocessing import PolynomialFeatures\n",
    "from keras.models import Sequential\n",
    "from keras.layers import Dense\n",
    "from scikeras.wrappers import KerasRegressor\n",
    "from keras.optimizers import SGD"
   ]
  },
  {
   "cell_type": "code",
   "execution_count": 57,
   "metadata": {},
   "outputs": [
    {
     "name": "stderr",
     "output_type": "stream",
     "text": [
      "c:\\Users\\mboyk\\AppData\\Local\\Programs\\Python\\Python311\\Lib\\site-packages\\yfinance\\utils.py:775: FutureWarning: The 'unit' keyword in TimedeltaIndex construction is deprecated and will be removed in a future version. Use pd.to_timedelta instead.\n",
      "  df.index += _pd.TimedeltaIndex(dst_error_hours, 'h')\n",
      "[*********************100%%**********************]  1 of 1 completed\n"
     ]
    },
    {
     "data": {
      "image/png": "[encoded data removed]",
      "text/plain": [
       "<Figure size 2000x1000 with 1 Axes>"
      ]
     },
     "metadata": {},
     "output_type": "display_data"
    }
   ],
   "source": [
    "# initialize parameters \n",
    "start_date = datetime(2019, 8, 1)\n",
    "end_date = datetime(2024, 12, 1)\n",
    "\n",
    "# get the data \n",
    "stock_data = yf.download('^NDXT', start = start_date,\n",
    "                         end = end_date)\n",
    "\n",
    "stock_data.to_csv('stock_data.csv', index = True, encoding='utf-8') # False: not include index\n",
    "\n",
    "# display \n",
    "plt.figure(figsize = (20,10))\n",
    "plt.title('Opening Prices from {} to {}'.format(start_date,\n",
    "                                                end_date))\n",
    "plt.plot(stock_data['Open'])\n",
    "plt.show()"
   ]
  },
  {
   "cell_type": "code",
   "execution_count": 58,
   "metadata": {},
   "outputs": [
    {
     "name": "stdout",
     "output_type": "stream",
     "text": [
      "Diff between 11 APR 2022 and week before: -7.59%\n"
     ]
    }
   ],
   "source": [
    "def date_to_index(stock_data, date):\n",
    "    date_col_stock_data = stock_data.index.to_pydatetime()\n",
    "    for i in range(len(date_col_stock_data)):\n",
    "        if date_col_stock_data[i] == date:\n",
    "            return i\n",
    "    return -1\n",
    "\n",
    "def get_closest_available_date(stock_data, date):\n",
    "    date_col_stock_data = stock_data.index.to_pydatetime()\n",
    "    # date_col_stock_data = stock_data.reset_index()['Date']\n",
    "    while date not in date_col_stock_data:\n",
    "        date = date - timedelta(days = 1)\n",
    "    return date\n",
    "\n",
    "\"\"\"\n",
    "@param stock_data: original stock_data df\n",
    "@param week_end: layoff date\n",
    "@param period: number of days to look back, defaults to 7\n",
    "\n",
    "@return % of change in NDXT index price during last week before layoff date \n",
    "\"\"\"\n",
    "def weekly_price_diff(stock_data, week_end, period: int = 7):\n",
    "    # week end date in format datetime(YYYY,MM,DD)\n",
    "\n",
    "    if (week_end < datetime(2020, 1, 15)):\n",
    "        return 0\n",
    "    date_col_stock_data = stock_data.reset_index() # add DATE as column\n",
    "    date_end_closest = get_closest_available_date(stock_data, week_end)\n",
    "    date_start_closest = get_closest_available_date(stock_data, week_end - timedelta(days = period))\n",
    "\n",
    "    price_end = stock_data['Open'][date_end_closest]\n",
    "    price_start = stock_data['Open'][date_start_closest]\n",
    "    price_diff = (price_end - price_start) / price_start * 100\n",
    "\n",
    "    return price_diff # in PERCENTAGE\n",
    "\n",
    "# ! USAGE EXAMPLE\n",
    "price_diff = weekly_price_diff(stock_data, datetime(2022, 4, 11))\n",
    "price_diff = round(price_diff, 2)\n",
    "print(f\"Diff between 11 APR 2022 and week before: {price_diff}%\")"
   ]
  },
  {
   "cell_type": "code",
   "execution_count": 59,
   "metadata": {},
   "outputs": [
    {
     "data": {
      "text/html": [
       "<div>\n",
       "<style scoped>\n",
       "    .dataframe tbody tr th:only-of-type {\n",
       "        vertical-align: middle;\n",
       "    }\n",
       "\n",
       "    .dataframe tbody tr th {\n",
       "        vertical-align: top;\n",
       "    }\n",
       "\n",
       "    .dataframe thead th {\n",
       "        text-align: right;\n",
       "    }\n",
       "</style>\n",
       "<table border=\"1\" class=\"dataframe\">\n",
       "  <thead>\n",
       "    <tr style=\"text-align: right;\">\n",
       "      <th></th>\n",
       "      <th>Open</th>\n",
       "      <th>High</th>\n",
       "      <th>Low</th>\n",
       "      <th>Close</th>\n",
       "      <th>Adj Close</th>\n",
       "      <th>Volume</th>\n",
       "      <th>price_diff</th>\n",
       "    </tr>\n",
       "    <tr>\n",
       "      <th>Date</th>\n",
       "      <th></th>\n",
       "      <th></th>\n",
       "      <th></th>\n",
       "      <th></th>\n",
       "      <th></th>\n",
       "      <th></th>\n",
       "      <th></th>\n",
       "    </tr>\n",
       "  </thead>\n",
       "  <tbody>\n",
       "    <tr>\n",
       "      <th>2019-08-01</th>\n",
       "      <td>4821.149902</td>\n",
       "      <td>4924.919922</td>\n",
       "      <td>4726.339844</td>\n",
       "      <td>4762.810059</td>\n",
       "      <td>4762.810059</td>\n",
       "      <td>425800</td>\n",
       "      <td>0</td>\n",
       "    </tr>\n",
       "    <tr>\n",
       "      <th>2019-08-02</th>\n",
       "      <td>4695.549805</td>\n",
       "      <td>4712.990234</td>\n",
       "      <td>4629.250000</td>\n",
       "      <td>4655.560059</td>\n",
       "      <td>4655.560059</td>\n",
       "      <td>356000</td>\n",
       "      <td>0</td>\n",
       "    </tr>\n",
       "    <tr>\n",
       "      <th>2019-08-05</th>\n",
       "      <td>4525.939941</td>\n",
       "      <td>4534.649902</td>\n",
       "      <td>4434.459961</td>\n",
       "      <td>4469.970215</td>\n",
       "      <td>4469.970215</td>\n",
       "      <td>427900</td>\n",
       "      <td>0</td>\n",
       "    </tr>\n",
       "    <tr>\n",
       "      <th>2019-08-06</th>\n",
       "      <td>4530.689941</td>\n",
       "      <td>4562.890137</td>\n",
       "      <td>4481.229980</td>\n",
       "      <td>4531.810059</td>\n",
       "      <td>4531.810059</td>\n",
       "      <td>317500</td>\n",
       "      <td>0</td>\n",
       "    </tr>\n",
       "    <tr>\n",
       "      <th>2019-08-07</th>\n",
       "      <td>4480.180176</td>\n",
       "      <td>4563.459961</td>\n",
       "      <td>4470.759766</td>\n",
       "      <td>4550.560059</td>\n",
       "      <td>4550.560059</td>\n",
       "      <td>321600</td>\n",
       "      <td>0</td>\n",
       "    </tr>\n",
       "    <tr>\n",
       "      <th>...</th>\n",
       "      <td>...</td>\n",
       "      <td>...</td>\n",
       "      <td>...</td>\n",
       "      <td>...</td>\n",
       "      <td>...</td>\n",
       "      <td>...</td>\n",
       "      <td>...</td>\n",
       "    </tr>\n",
       "    <tr>\n",
       "      <th>2024-03-04</th>\n",
       "      <td>10638.120117</td>\n",
       "      <td>10670.769531</td>\n",
       "      <td>10579.769531</td>\n",
       "      <td>10606.419922</td>\n",
       "      <td>10606.419922</td>\n",
       "      <td>0</td>\n",
       "      <td>3.143825</td>\n",
       "    </tr>\n",
       "    <tr>\n",
       "      <th>2024-03-05</th>\n",
       "      <td>10480.400391</td>\n",
       "      <td>10489.519531</td>\n",
       "      <td>10255.240234</td>\n",
       "      <td>10332.759766</td>\n",
       "      <td>10332.759766</td>\n",
       "      <td>0</td>\n",
       "      <td>1.055839</td>\n",
       "    </tr>\n",
       "    <tr>\n",
       "      <th>2024-03-06</th>\n",
       "      <td>10542.009766</td>\n",
       "      <td>10566.629883</td>\n",
       "      <td>10407.910156</td>\n",
       "      <td>10475.540039</td>\n",
       "      <td>10475.540039</td>\n",
       "      <td>0</td>\n",
       "      <td>2.747636</td>\n",
       "    </tr>\n",
       "    <tr>\n",
       "      <th>2024-03-07</th>\n",
       "      <td>10568.570312</td>\n",
       "      <td>10719.269531</td>\n",
       "      <td>10530.219727</td>\n",
       "      <td>10686.650391</td>\n",
       "      <td>10686.650391</td>\n",
       "      <td>0</td>\n",
       "      <td>2.08901</td>\n",
       "    </tr>\n",
       "    <tr>\n",
       "      <th>2024-03-08</th>\n",
       "      <td>10672.330078</td>\n",
       "      <td>10724.919922</td>\n",
       "      <td>10408.530273</td>\n",
       "      <td>10415.330078</td>\n",
       "      <td>10415.330078</td>\n",
       "      <td>0</td>\n",
       "      <td>2.104794</td>\n",
       "    </tr>\n",
       "  </tbody>\n",
       "</table>\n",
       "<p>1159 rows × 7 columns</p>\n",
       "</div>"
      ],
      "text/plain": [
       "                    Open          High           Low         Close  \\\n",
       "Date                                                                 \n",
       "2019-08-01   4821.149902   4924.919922   4726.339844   4762.810059   \n",
       "2019-08-02   4695.549805   4712.990234   4629.250000   4655.560059   \n",
       "2019-08-05   4525.939941   4534.649902   4434.459961   4469.970215   \n",
       "2019-08-06   4530.689941   4562.890137   4481.229980   4531.810059   \n",
       "2019-08-07   4480.180176   4563.459961   4470.759766   4550.560059   \n",
       "...                  ...           ...           ...           ...   \n",
       "2024-03-04  10638.120117  10670.769531  10579.769531  10606.419922   \n",
       "2024-03-05  10480.400391  10489.519531  10255.240234  10332.759766   \n",
       "2024-03-06  10542.009766  10566.629883  10407.910156  10475.540039   \n",
       "2024-03-07  10568.570312  10719.269531  10530.219727  10686.650391   \n",
       "2024-03-08  10672.330078  10724.919922  10408.530273  10415.330078   \n",
       "\n",
       "               Adj Close  Volume price_diff  \n",
       "Date                                         \n",
       "2019-08-01   4762.810059  425800          0  \n",
       "2019-08-02   4655.560059  356000          0  \n",
       "2019-08-05   4469.970215  427900          0  \n",
       "2019-08-06   4531.810059  317500          0  \n",
       "2019-08-07   4550.560059  321600          0  \n",
       "...                  ...     ...        ...  \n",
       "2024-03-04  10606.419922       0   3.143825  \n",
       "2024-03-05  10332.759766       0   1.055839  \n",
       "2024-03-06  10475.540039       0   2.747636  \n",
       "2024-03-07  10686.650391       0    2.08901  \n",
       "2024-03-08  10415.330078       0   2.104794  \n",
       "\n",
       "[1159 rows x 7 columns]"
      ]
     },
     "execution_count": 59,
     "metadata": {},
     "output_type": "execute_result"
    }
   ],
   "source": [
    "# TODO: ADD RETRIEVED STOCK CHANGE TO DATA_PD\n",
    "\n",
    "week_price_diff_df = pd.DataFrame(index = stock_data.index, columns = ['price_diff'])\n",
    "for date in week_price_diff_df.index:\n",
    "    week_price_diff_df.loc[date, 'price_diff'] = weekly_price_diff(stock_data, date)\n",
    "\n",
    "stock_data['price_diff'] = week_price_diff_df['price_diff']\n",
    "stock_data.to_csv('stock_data.csv', index = True, encoding='utf-8')\n",
    "stock_data"
   ]
  },
  {
   "cell_type": "code",
   "execution_count": 60,
   "metadata": {},
   "outputs": [
    {
     "data": {
      "text/html": [
       "<div>\n",
       "<style scoped>\n",
       "    .dataframe tbody tr th:only-of-type {\n",
       "        vertical-align: middle;\n",
       "    }\n",
       "\n",
       "    .dataframe tbody tr th {\n",
       "        vertical-align: top;\n",
       "    }\n",
       "\n",
       "    .dataframe thead th {\n",
       "        text-align: right;\n",
       "    }\n",
       "</style>\n",
       "<table border=\"1\" class=\"dataframe\">\n",
       "  <thead>\n",
       "    <tr style=\"text-align: right;\">\n",
       "      <th></th>\n",
       "      <th>Date_layoffs</th>\n",
       "      <th>stock_delta</th>\n",
       "      <th>Company_Size_before_Layoffs</th>\n",
       "      <th>Money_Raised_in_$_mil</th>\n",
       "    </tr>\n",
       "  </thead>\n",
       "  <tbody>\n",
       "    <tr>\n",
       "      <th>0</th>\n",
       "      <td>1583996400</td>\n",
       "      <td>-17.938421</td>\n",
       "      <td>50</td>\n",
       "      <td>90000000.0</td>\n",
       "    </tr>\n",
       "    <tr>\n",
       "      <th>1</th>\n",
       "      <td>1584082800</td>\n",
       "      <td>-15.003683</td>\n",
       "      <td>80</td>\n",
       "      <td>45000000.0</td>\n",
       "    </tr>\n",
       "    <tr>\n",
       "      <th>2</th>\n",
       "      <td>1584342000</td>\n",
       "      <td>-19.758224</td>\n",
       "      <td>591</td>\n",
       "      <td>79000000.0</td>\n",
       "    </tr>\n",
       "    <tr>\n",
       "      <th>3</th>\n",
       "      <td>1584342000</td>\n",
       "      <td>-19.758224</td>\n",
       "      <td>16</td>\n",
       "      <td>6000000.0</td>\n",
       "    </tr>\n",
       "    <tr>\n",
       "      <th>4</th>\n",
       "      <td>1584514800</td>\n",
       "      <td>-24.824380</td>\n",
       "      <td>20</td>\n",
       "      <td>4000000.0</td>\n",
       "    </tr>\n",
       "    <tr>\n",
       "      <th>...</th>\n",
       "      <td>...</td>\n",
       "      <td>...</td>\n",
       "      <td>...</td>\n",
       "      <td>...</td>\n",
       "    </tr>\n",
       "    <tr>\n",
       "      <th>897</th>\n",
       "      <td>1704873600</td>\n",
       "      <td>14.204551</td>\n",
       "      <td>188000</td>\n",
       "      <td>26000000.0</td>\n",
       "    </tr>\n",
       "    <tr>\n",
       "      <th>898</th>\n",
       "      <td>1704873600</td>\n",
       "      <td>14.204551</td>\n",
       "      <td>450</td>\n",
       "      <td>57000000.0</td>\n",
       "    </tr>\n",
       "    <tr>\n",
       "      <th>899</th>\n",
       "      <td>1704960000</td>\n",
       "      <td>15.684460</td>\n",
       "      <td>1000</td>\n",
       "      <td>995000000.0</td>\n",
       "    </tr>\n",
       "    <tr>\n",
       "      <th>900</th>\n",
       "      <td>1704960000</td>\n",
       "      <td>15.684460</td>\n",
       "      <td>2000</td>\n",
       "      <td>14000000.0</td>\n",
       "    </tr>\n",
       "    <tr>\n",
       "      <th>901</th>\n",
       "      <td>1704960000</td>\n",
       "      <td>15.684460</td>\n",
       "      <td>462</td>\n",
       "      <td>274000000.0</td>\n",
       "    </tr>\n",
       "  </tbody>\n",
       "</table>\n",
       "<p>902 rows × 4 columns</p>\n",
       "</div>"
      ],
      "text/plain": [
       "     Date_layoffs  stock_delta  Company_Size_before_Layoffs  \\\n",
       "0      1583996400   -17.938421                           50   \n",
       "1      1584082800   -15.003683                           80   \n",
       "2      1584342000   -19.758224                          591   \n",
       "3      1584342000   -19.758224                           16   \n",
       "4      1584514800   -24.824380                           20   \n",
       "..            ...          ...                          ...   \n",
       "897    1704873600    14.204551                       188000   \n",
       "898    1704873600    14.204551                          450   \n",
       "899    1704960000    15.684460                         1000   \n",
       "900    1704960000    15.684460                         2000   \n",
       "901    1704960000    15.684460                          462   \n",
       "\n",
       "     Money_Raised_in_$_mil  \n",
       "0               90000000.0  \n",
       "1               45000000.0  \n",
       "2               79000000.0  \n",
       "3                6000000.0  \n",
       "4                4000000.0  \n",
       "..                     ...  \n",
       "897             26000000.0  \n",
       "898             57000000.0  \n",
       "899            995000000.0  \n",
       "900             14000000.0  \n",
       "901            274000000.0  \n",
       "\n",
       "[902 rows x 4 columns]"
      ]
     },
     "metadata": {},
     "output_type": "display_data"
    },
    {
     "name": "stdout",
     "output_type": "stream",
     "text": [
      "(902, 51)\n",
      "(902,)\n"
     ]
    }
   ],
   "source": [
    "def str_to_datetime(dt_string):\n",
    "    return datetime.strptime(dt_string, \"%Y-%m-%d %H:%M:%S UTC\")\n",
    "\n",
    "layoff_data = pd.read_csv(\"tech_layoffs.csv\")\n",
    "\n",
    "layoff_data[\"Date_layoffs\"] = layoff_data[\"Date_layoffs\"].apply(lambda x: str_to_datetime(x))\n",
    "layoff_data['Company'] = layoff_data['Company'].replace({'SaleSan Franciscoorce': 'Salesforce'})\n",
    "layoff_data.set_index('Date_layoffs', inplace = True)\n",
    "layoff_data = layoff_data.sort_index()\n",
    "layoff_data = layoff_data[layoff_data['Continent'] == 'North America']\n",
    "layoff_data = layoff_data[layoff_data['Country'] == 'USA']\n",
    "layoff_data = layoff_data[layoff_data['Company_Size_before_Layoffs'] >= 10]\n",
    "layoff_data = layoff_data.drop(columns=[\"Company\", \"lat\", \"lng\", \"Continent\", \"Country\", \"#\"])\n",
    "\n",
    "cities_by_timezone = {\n",
    "    'Pacific Time': ['Los Angeles', 'San Francisco Bay Area', 'Seattle', 'Portland', 'San Luis Obispo', 'Sacramento', 'San Diego', 'Santa Barbara', 'Camarillo', 'Fremont', 'Bend', 'Reno', 'Spokane', 'Las Vegas', 'Fresno'],\n",
    "    'Mountain Time': ['Denver', 'Boulder', 'Salt Lake City', 'Missoula', 'Santa Fe', 'Phoenix', 'Lehi', 'Logan', 'Boise'],\n",
    "    'Central Time': ['Austin', 'Chicago', 'Minneapolis', 'Milwaukee', 'Nashville', 'Dallas', 'Cincinnati', 'Columbus', 'Indianapolis', 'Nebraska City', 'Kansas City'],\n",
    "    'Eastern Time': ['New York City', 'Boston', 'Atlanta', 'Ann Arbor', 'Miami', 'Detroit', 'Stamford', 'Washington DC', 'Philadelphia', 'Raleigh', 'Walnut', 'Madison', 'Dover', 'Burlington', 'Wilmington', 'Nashua', 'Baltimore', 'Tampa Bay']\n",
    "}\n",
    "\n",
    "def get_timezone(city):\n",
    "    for timezone, cities in cities_by_timezone.items():\n",
    "        if city in cities:\n",
    "            return timezone\n",
    "    return None\n",
    "\n",
    "# Assign new attribute 'Timezone' based on city\n",
    "layoff_data['Region'] = layoff_data['Location_HQ'].map(get_timezone)\n",
    "layoff_data = layoff_data.drop(columns=[\"Location_HQ\", \"Company_Size_after_layoffs\", \"Laid_Off\"]) \n",
    "\n",
    "#Incorporate stock price\n",
    "layoff_data = layoff_data.reset_index()\n",
    "\n",
    "#Create a new column for stock price change, and add it to the layoff_data_with_date_col dataframe\n",
    "layoff_data.insert(1, \"stock_delta\", layoff_data[\"Date_layoffs\"].apply(lambda x: weekly_price_diff(stock_data, x, period=90)))\n",
    "layoff_data  # bug: several stock_delta values are 0, which is highly improbable.\n",
    "\n",
    "\n",
    "industry_encoder = LabelEncoder()\n",
    "layoff_data['industry_encoded'] = industry_encoder.fit_transform(layoff_data['Industry'])\n",
    "\n",
    "time_encoder = LabelEncoder()\n",
    "layoff_data['Region_encoded'] = industry_encoder.fit_transform(layoff_data['Region'])\n",
    "\n",
    "# Create LabelEncoder instance for stage column\n",
    "stage_encoder = LabelEncoder()\n",
    "layoff_data['stage_encoded'] = stage_encoder.fit_transform(layoff_data['Stage'])\n",
    "layoff_data = layoff_data.drop(columns=[\"Industry\", \"Stage\",\"Year\",\"Region\"])\n",
    "layoff_data['Money_Raised_in_$_mil'] = layoff_data['Money_Raised_in_$_mil'].str.replace('$', '').astype(float) * 1000000\n",
    "\n",
    "#convert date layoffs to unix\n",
    "layoff_data['Date_layoffs'] = layoff_data['Date_layoffs'].apply(lambda x: int(datetime.timestamp(x)))\n",
    "\n",
    "\n",
    "Y = layoff_data['Percentage']\n",
    "\n",
    "# layoff_data = layoff_data.drop(columns=[\"Date_layoffs\"])\n",
    "\n",
    "industry = layoff_data['industry_encoded']\n",
    "stage = layoff_data['stage_encoded'] \n",
    "region = layoff_data['Region_encoded']\n",
    "\n",
    "# Reshape to a 2D array\n",
    "industry = industry.values.reshape(-1, 1)\n",
    "stage = stage.values.reshape(-1, 1)\n",
    "region = region.values.reshape(-1, 1)\n",
    "\n",
    "# #display\n",
    "# display(layoff_data)\n",
    "\n",
    "\n",
    "# One-hot encode\n",
    "encoder = OneHotEncoder(sparse_output=False, drop='first')\n",
    "industry_onehot = encoder.fit_transform(industry)\n",
    "encoder = OneHotEncoder(sparse_output=False, drop='first')\n",
    "stage_onehot = encoder.fit_transform(stage)\n",
    "encoder = OneHotEncoder(sparse_output=False, drop='first')\n",
    "region_onehot = encoder.fit_transform(region)\n",
    "\n",
    "# Display the one-hot encoded arrays\n",
    "\n",
    "# Drop the original categorical columns from layoff_data\n",
    "layoff_data = layoff_data.drop(columns=[\"industry_encoded\", \"stage_encoded\", \"Region_encoded\"])\n",
    "layoff_data = layoff_data.drop(columns=[\"Percentage\"])\n",
    "display(layoff_data)\n",
    "\n",
    "# Concatenate numerical features and one-hot encoded features\n",
    "data_array = np.hstack((layoff_data.values, industry_onehot, stage_onehot, region_onehot))\n",
    "\n",
    "X = data_array\n",
    "\n",
    "print(X.shape)\n",
    "print(Y.shape)"
   ]
  },
  {
   "cell_type": "code",
   "execution_count": 61,
   "metadata": {},
   "outputs": [
    {
     "name": "stdout",
     "output_type": "stream",
     "text": [
      "(902, 51)\n",
      "(902,)\n"
     ]
    }
   ],
   "source": [
    "print(X.shape)\n",
    "print(Y.shape)"
   ]
  },
  {
   "cell_type": "code",
   "execution_count": 62,
   "metadata": {},
   "outputs": [
    {
     "name": "stdout",
     "output_type": "stream",
     "text": [
      "Training set shapes: X_train = (721, 51) , Y_train = (721,)\n",
      "Testing set shapes: X_test = (181, 51) , Y_test = (181,)\n"
     ]
    }
   ],
   "source": [
    "# Assuming you have already defined X and Y\n",
    "\n",
    "# Split the data into training and testing sets\n",
    "X_train, X_test, y_train, y_test = train_test_split(X, Y, test_size=0.2, random_state=42)\n",
    "\n",
    "# Print the shapes of the resulting sets\n",
    "print(\"Training set shapes: X_train =\", X_train.shape, \", Y_train =\", y_train.shape)\n",
    "print(\"Testing set shapes: X_test =\", X_test.shape, \", Y_test =\", y_test.shape)"
   ]
  },
  {
   "cell_type": "code",
   "execution_count": 63,
   "metadata": {},
   "outputs": [
    {
     "name": "stdout",
     "output_type": "stream",
     "text": [
      "LAYOFF DATA VALS: [ 1.5839964e+09 -1.7938421e+01  5.0000000e+01  9.0000000e+07]\n",
      "INDUSTRY ONEHOT: [0. 0. 0. 0. 0. 0. 0. 0. 0. 0. 0. 0. 0. 0. 0. 0. 0. 0. 0. 0. 0. 0. 0. 1.\n",
      " 0. 0. 0. 0. 0.]\n",
      "STAGE ONEHOT: [0. 0. 0. 0. 0. 1. 0. 0. 0. 0. 0. 0. 0. 0.]\n",
      "REGION ONEHOT: [0. 0. 1. 0.]\n",
      "X: [ 1.5839964e+09 -1.7938421e+01  5.0000000e+01  9.0000000e+07\n",
      "  0.0000000e+00  0.0000000e+00  0.0000000e+00  0.0000000e+00\n",
      "  0.0000000e+00  0.0000000e+00  0.0000000e+00  0.0000000e+00\n",
      "  0.0000000e+00  0.0000000e+00  0.0000000e+00  0.0000000e+00\n",
      "  0.0000000e+00  0.0000000e+00  0.0000000e+00  0.0000000e+00\n",
      "  0.0000000e+00  0.0000000e+00  0.0000000e+00  0.0000000e+00\n",
      "  0.0000000e+00  0.0000000e+00  0.0000000e+00  1.0000000e+00\n",
      "  0.0000000e+00  0.0000000e+00  0.0000000e+00  0.0000000e+00\n",
      "  0.0000000e+00  0.0000000e+00  0.0000000e+00  0.0000000e+00\n",
      "  0.0000000e+00  0.0000000e+00  1.0000000e+00  0.0000000e+00\n",
      "  0.0000000e+00  0.0000000e+00  0.0000000e+00  0.0000000e+00\n",
      "  0.0000000e+00  0.0000000e+00  0.0000000e+00  0.0000000e+00\n",
      "  0.0000000e+00  1.0000000e+00  0.0000000e+00]\n"
     ]
    }
   ],
   "source": [
    "# layoff_data.values, industry_onehot, stage_onehot, region_onehot\n",
    "print(\"LAYOFF DATA VALS: \" + str(layoff_data.values[0]))\n",
    "print(\"INDUSTRY ONEHOT: \" + str(industry_onehot[0]))\n",
    "print(\"STAGE ONEHOT: \" + str(stage_onehot[0]))\n",
    "print(\"REGION ONEHOT: \" + str(region_onehot[0]))\n",
    "\n",
    "print(\"X: \" + str(X[0]))\n"
   ]
  },
  {
   "cell_type": "code",
   "execution_count": 64,
   "metadata": {},
   "outputs": [
    {
     "data": {
      "text/plain": [
       "0       40.000000\n",
       "1       10.000000\n",
       "2       22.000000\n",
       "3      100.000000\n",
       "4       20.000000\n",
       "          ...    \n",
       "897      0.531915\n",
       "898     13.333333\n",
       "899     17.000000\n",
       "900      5.000000\n",
       "901     13.000000\n",
       "Name: Percentage, Length: 902, dtype: float64"
      ]
     },
     "execution_count": 64,
     "metadata": {},
     "output_type": "execute_result"
    }
   ],
   "source": [
    "Y"
   ]
  },
  {
   "cell_type": "markdown",
   "metadata": {},
   "source": [
    "## Polynomial Regression Model\n",
    "\n",
    "In our first model, we wanted to determine if a polynomial regression model\n",
    "would work in predicting the percentage of employees that would be laid off."
   ]
  },
  {
   "cell_type": "code",
   "execution_count": 65,
   "metadata": {},
   "outputs": [],
   "source": [
    "mse_arr = []"
   ]
  },
  {
   "cell_type": "code",
   "execution_count": 66,
   "metadata": {},
   "outputs": [
    {
     "name": "stdout",
     "output_type": "stream",
     "text": [
      "MSE_train: 484.89271442931323\n",
      "MSE_test: 409.1260231141291\n"
     ]
    }
   ],
   "source": [
    "logreg = LinearRegression()\n",
    "\n",
    "X_train_np = np.array(X_train)\n",
    "y_train_np = np.array(y_train)\n",
    "X_train_df = pd.DataFrame(X_train_np)\n",
    "y_train_df = pd.DataFrame(y_train_np)\n",
    "\n",
    "logreg.fit(X_train_df, y_train_df)\n",
    "\n",
    "yhat_train = logreg.predict(X_train)\n",
    "yhat_test = logreg.predict(X_test)\n",
    "\n",
    "MSE_train = np.mean((y_train.values - yhat_train)**2)\n",
    "MSE_test = np.mean((y_test.values - yhat_test)**2)\n",
    "\n",
    "mse_arr.append((MSE_train, MSE_test))\n",
    "\n",
    "print(f\"MSE_train: {MSE_train}\")\n",
    "print(f\"MSE_test: {MSE_test}\")\n"
   ]
  },
  {
   "cell_type": "code",
   "execution_count": 67,
   "metadata": {},
   "outputs": [
    {
     "name": "stdout",
     "output_type": "stream",
     "text": [
      "Degree: 2\n",
      "    MSE_train: 518.5206435359247\n",
      "    MSE_test:  667.1790187299712\n",
      "Degree: 3\n",
      "    MSE_train: 531.3218609748809\n",
      "    MSE_test:  624.8022476614655\n",
      "Degree: 4\n",
      "    MSE_train: 455.38698286324484\n",
      "    MSE_test:  880.0471714897942\n"
     ]
    }
   ],
   "source": [
    "for k in range(2,5):\n",
    "    # Create kth degree polynomial\n",
    "    poly = PolynomialFeatures(k)\n",
    "\n",
    "    # Convert features to fit polynomial model\n",
    "    train_features = poly.fit_transform(X_train_df)\n",
    "    test_features = poly.fit_transform(X_test)\n",
    "\n",
    "    # Create polynomial regression\n",
    "    polyreg = LinearRegression()\n",
    "    polyreg.fit(train_features, y_train_df)\n",
    "\n",
    "    # Get predictions\n",
    "    yhat_train = polyreg.predict(train_features)\n",
    "    yhat_test = polyreg.predict(test_features)\n",
    "\n",
    "    # Print resulting MSE\n",
    "    MSE_train = np.mean((y_train.values - yhat_train) ** 2)\n",
    "    MSE_test = np.mean((y_test.values - yhat_test) ** 2)\n",
    "\n",
    "    mse_arr.append((MSE_train, MSE_test))\n",
    "\n",
    "    print(f'Degree: {k}')\n",
    "    print(f'    MSE_train: {MSE_train}')\n",
    "    print(f'    MSE_test:  {MSE_test}')"
   ]
  },
  {
   "cell_type": "code",
   "execution_count": 68,
   "metadata": {},
   "outputs": [
    {
     "data": {
      "image/png": "[encoded data removed]",
      "text/plain": [
       "<Figure size 640x480 with 1 Axes>"
      ]
     },
     "metadata": {},
     "output_type": "display_data"
    }
   ],
   "source": [
    "mse_train = [pair[0] for pair in mse_arr]\n",
    "mse_test = [pair[1] for pair in mse_arr]\n",
    "\n",
    "degrees = range(1, len(mse_arr) + 1)\n",
    "\n",
    "plt.plot(degrees, mse_train, label='Training MSE')\n",
    "plt.plot(degrees, mse_test, label='Testing MSE')\n",
    "\n",
    "plt.xlabel('Polynomial Degree')\n",
    "plt.ylabel('MSE')\n",
    "plt.title('Polynomial Regression Training and Testing MSE')\n",
    "plt.legend()\n",
    "\n",
    "plt.show()"
   ]
  },
  {
   "cell_type": "markdown",
   "metadata": {},
   "source": [
    "### Model 1 Analysis\n",
    "\n",
    "From our fitting graph, we can conclude from our high MSE that our model is\n",
    "underfitting regardless of the degree of our polynomial.\n",
    "\n",
    "For our next two models, we are considering Automatic Relevance Determination\n",
    "regression and a Neural Network. With ARD regression, we want to see if a\n",
    "different regularization technique will better assign weights depending on the\n",
    "feature in our modeling process. Meanwhile, a Neural Network may be better\n",
    "suited in finding patterns within our data."
   ]
  },
  {
   "cell_type": "markdown",
   "metadata": {},
   "source": [
    "### Model 1 Conclusion\n",
    "\n",
    "From our first model, we can conclude that polynomial regression might not be\n",
    "the best model to use given our data. The high training and testing MSE along\n",
    "with the long training times. It is possible that higher polynomial degrees or\n",
    "isolating some of our input features may improve the performance of our model.\n",
    "However, we would still run into issues where the polynomial regression takes\n",
    "a long time to fit with our training data. Thus, we are less likely to use\n",
    "this in our data."
   ]
  },
  {
   "cell_type": "code",
   "execution_count": 69,
   "metadata": {},
   "outputs": [
    {
     "name": "stdout",
     "output_type": "stream",
     "text": [
      "LAYOFF DATA VALS: [ 1.5839964e+09 -1.7938421e+01  5.0000000e+01  9.0000000e+07]\n",
      "INDUSTRY ONEHOT: [0. 0. 0. 0. 0. 0. 0. 0. 0. 0. 0. 0. 0. 0. 0. 0. 0. 0. 0. 0. 0. 0. 0. 1.\n",
      " 0. 0. 0. 0. 0.]\n",
      "STAGE ONEHOT: [0. 0. 0. 0. 0. 1. 0. 0. 0. 0. 0. 0. 0. 0.]\n",
      "REGION ONEHOT: [0. 0. 1. 0.]\n",
      "X: [ 1.5839964e+09 -1.7938421e+01  5.0000000e+01  9.0000000e+07\n",
      "  0.0000000e+00  0.0000000e+00  0.0000000e+00  0.0000000e+00\n",
      "  0.0000000e+00  0.0000000e+00  0.0000000e+00  0.0000000e+00\n",
      "  0.0000000e+00  0.0000000e+00  0.0000000e+00  0.0000000e+00\n",
      "  0.0000000e+00  0.0000000e+00  0.0000000e+00  0.0000000e+00\n",
      "  0.0000000e+00  0.0000000e+00  0.0000000e+00  0.0000000e+00\n",
      "  0.0000000e+00  0.0000000e+00  0.0000000e+00  1.0000000e+00\n",
      "  0.0000000e+00  0.0000000e+00  0.0000000e+00  0.0000000e+00\n",
      "  0.0000000e+00  0.0000000e+00  0.0000000e+00  0.0000000e+00\n",
      "  0.0000000e+00  0.0000000e+00  1.0000000e+00  0.0000000e+00\n",
      "  0.0000000e+00  0.0000000e+00  0.0000000e+00  0.0000000e+00\n",
      "  0.0000000e+00  0.0000000e+00  0.0000000e+00  0.0000000e+00\n",
      "  0.0000000e+00  1.0000000e+00  0.0000000e+00]\n"
     ]
    }
   ],
   "source": [
    "# layoff_data.values, industry_onehot, stage_onehot, region_onehot\n",
    "print(\"LAYOFF DATA VALS: \" + str(layoff_data.values[0]))\n",
    "print(\"INDUSTRY ONEHOT: \" + str(industry_onehot[0]))\n",
    "print(\"STAGE ONEHOT: \" + str(stage_onehot[0]))\n",
    "print(\"REGION ONEHOT: \" + str(region_onehot[0]))\n",
    "\n",
    "print(\"X: \" + str(X[0]))\n"
   ]
  },
  {
   "cell_type": "code",
   "execution_count": 70,
   "metadata": {},
   "outputs": [
    {
     "data": {
      "text/plain": [
       "0       40.000000\n",
       "1       10.000000\n",
       "2       22.000000\n",
       "3      100.000000\n",
       "4       20.000000\n",
       "          ...    \n",
       "897      0.531915\n",
       "898     13.333333\n",
       "899     17.000000\n",
       "900      5.000000\n",
       "901     13.000000\n",
       "Name: Percentage, Length: 902, dtype: float64"
      ]
     },
     "execution_count": 70,
     "metadata": {},
     "output_type": "execute_result"
    }
   ],
   "source": [
    "Y"
   ]
  },
  {
   "cell_type": "markdown",
   "metadata": {},
   "source": [
    "# Neural Network"
   ]
  },
  {
   "cell_type": "code",
   "execution_count": 71,
   "metadata": {},
   "outputs": [
    {
     "name": "stdout",
     "output_type": "stream",
     "text": [
      "Testing Mean Squared Error: 584.9784896957286\n",
      "Training Mean Squared Error: 786.0688282061325\n"
     ]
    }
   ],
   "source": [
    "\"# Building model, splitting data, fitting model, and predicting points\\n\",\n",
    "def build_nn():\n",
    "    model = Sequential([\n",
    "        Dense(12, activation='sigmoid', input_dim=51),\n",
    "        Dense(12, activation='sigmoid'),\n",
    "        Dense(12, activation='sigmoid'),\n",
    "        Dense(12, activation='sigmoid'),\n",
    "        Dense(1, activation='sigmoid'),\n",
    "    ])\n",
    "    model.compile(optimizer=SGD(learning_rate=0.1), loss='mse', metrics=['mse'])\n",
    "    return model\n",
    "\n",
    "classifier = KerasRegressor(model=build_nn, epochs=100, batch_size=5, verbose=0)\n",
    "hist = classifier.fit(X_train, y_train)\n",
    "predictions_test = classifier.predict(X_test)\n",
    "predictions_train = classifier.predict(X_train)\n",
    "print('Testing Mean Squared Error:', mean_squared_error(predictions_test, y_test))\n",
    "print('Training Mean Squared Error:', mean_squared_error(predictions_train, y_train))"
   ]
  },
  {
   "cell_type": "code",
   "execution_count": 78,
   "metadata": {},
   "outputs": [],
   "source": [
    "import keras_tuner"
   ]
  },
  {
   "cell_type": "code",
   "execution_count": 79,
   "metadata": {},
   "outputs": [],
   "source": [
    "import sklearn\n",
    "import tensorflow as tf\n",
    "from keras.optimizers import SGD\n",
    "\n",
    "def buildHPmodel(hp):\n",
    "  model= Sequential([\n",
    "      Dense(12, activation = 'sigmoid', input_dim = 51),\n",
    "      Dense(units=hp.Int(\"units1\", min_value=3, max_value=24, step=5),activation=hp.Choice(\"acttype\", [\"sigmoid\", \"relu\", \"softmax\"])),\n",
    "      Dense(units=hp.Int(\"units1\", min_value=3, max_value=24, step=5),activation=hp.Choice(\"acttype\", [\"sigmoid\", \"relu\", \"softmax\"])),\n",
    "      Dense(units=hp.Int(\"units1\", min_value=3, max_value=24, step=5),activation=hp.Choice(\"acttype\", [\"sigmoid\", \"relu\", \"softmax\"])),\n",
    "      Dense(units=1,activation=hp.Choice(\"acttype\", [\"sigmoid\", \"relu\", \"softmax\"])),\n",
    "])\n",
    "  learning_rate = hp.Float(\"lr\", min_value=0.05, max_value=0.3, sampling=\"log\")\n",
    "  model.compile(optimizer='adam', loss='mean_squared_error', metrics=['mse'])\n",
    "  return model"
   ]
  },
  {
   "cell_type": "code",
   "execution_count": 99,
   "metadata": {},
   "outputs": [
    {
     "name": "stdout",
     "output_type": "stream",
     "text": [
      "WARNING:tensorflow:From c:\\Users\\mboyk\\AppData\\Local\\Programs\\Python\\Python311\\Lib\\site-packages\\keras\\src\\optimizers\\__init__.py:309: The name tf.train.Optimizer is deprecated. Please use tf.compat.v1.train.Optimizer instead.\n",
      "\n"
     ]
    }
   ],
   "source": [
    "tuner = keras_tuner.GridSearch(\n",
    "    hypermodel=buildHPmodel,\n",
    "    objective=\"val_loss\",\n",
    "    directory=\"tunerStore\",\n",
    "    project_name=\"tunerInstance4\",\n",
    "    max_trials=50,\n",
    "    seed=12,\n",
    "    executions_per_trial=2,\n",
    "    tune_new_entries=True,\n",
    "    allow_new_entries=True,\n",
    "    max_consecutive_failed_trials=3\n",
    ")"
   ]
  },
  {
   "cell_type": "code",
   "execution_count": 100,
   "metadata": {},
   "outputs": [
    {
     "name": "stdout",
     "output_type": "stream",
     "text": [
      "Trial 50 Complete [00h 00m 08s]\n",
      "val_loss: 402.2618942260742\n",
      "\n",
      "Best val_loss So Far: 229.6578369140625\n",
      "Total elapsed time: 00h 17m 27s\n"
     ]
    }
   ],
   "source": [
    "X_train, X_temp, y_train, y_temp = train_test_split(X, Y, test_size=0.3, random_state=42)\n",
    "X_test, X_val, y_test, y_val = train_test_split(X_temp, y_temp, test_size=0.5, random_state=42)\n",
    "\n",
    "X_train_np = np.array(X_train)\n",
    "y_train_np = np.array(y_train)\n",
    "X_test_np = np.array(X_test)\n",
    "y_test_np = np.array(y_test)\n",
    "X_val_np = np.array(X_val)\n",
    "y_val_np = np.array(y_val)\n",
    "\n",
    "#load from tunerStore trial 48\n",
    "import keras\n",
    "# tuner = keras.models.load_model('tunerStore/tunerInstance3')\n",
    "#why isnt this working? model = keras.models.load_model('tunerStore/tunerInstance3')\n",
    "\n",
    "\n",
    "\"\"\"TO RUN A NEW GRID SEARCH UNCOMMENT THE LINE BELOW\"\"\"\n",
    "tuner.search(X_train_np, y_train_np, epochs=10, validation_data=(X_val_np, y_val_np), batch_size=15)\n",
    "# tuner.save('tunerStore/tunerInstance3')"
   ]
  },
  {
   "cell_type": "code",
   "execution_count": 101,
   "metadata": {},
   "outputs": [
    {
     "name": "stdout",
     "output_type": "stream",
     "text": [
      "Results summary\n",
      "Results in tunerStore\\tunerInstance4\n",
      "Showing 10 best trials\n",
      "Objective(name=\"val_loss\", direction=\"min\")\n",
      "\n",
      "Trial 18 summary\n",
      "Hyperparameters:\n",
      "units1: 3\n",
      "acttype: relu\n",
      "lr: 0.19168293127388178\n",
      "Score: 229.6578369140625\n",
      "\n",
      "Trial 47 summary\n",
      "Hyperparameters:\n",
      "units1: 8\n",
      "acttype: relu\n",
      "lr: 0.07825422900366437\n",
      "Score: 232.19811248779297\n",
      "\n",
      "Trial 46 summary\n",
      "Hyperparameters:\n",
      "units1: 8\n",
      "acttype: relu\n",
      "lr: 0.0936101501762388\n",
      "Score: 400.6758041381836\n",
      "\n",
      "Trial 49 summary\n",
      "Hyperparameters:\n",
      "units1: 8\n",
      "acttype: relu\n",
      "lr: 0.13395323057981742\n",
      "Score: 402.2618942260742\n",
      "\n",
      "Trial 19 summary\n",
      "Hyperparameters:\n",
      "units1: 3\n",
      "acttype: relu\n",
      "lr: 0.22929710267708991\n",
      "Score: 406.30694580078125\n",
      "\n",
      "Trial 14 summary\n",
      "Hyperparameters:\n",
      "units1: 3\n",
      "acttype: relu\n",
      "lr: 0.07825422900366437\n",
      "Score: 407.2531509399414\n",
      "\n",
      "Trial 13 summary\n",
      "Hyperparameters:\n",
      "units1: 3\n",
      "acttype: relu\n",
      "lr: 0.0936101501762388\n",
      "Score: 407.33924865722656\n",
      "\n",
      "Trial 44 summary\n",
      "Hyperparameters:\n",
      "units1: 8\n",
      "acttype: relu\n",
      "lr: 0.05\n",
      "Score: 407.4636001586914\n",
      "\n",
      "Trial 16 summary\n",
      "Hyperparameters:\n",
      "units1: 3\n",
      "acttype: relu\n",
      "lr: 0.13395323057981742\n",
      "Score: 408.99578857421875\n",
      "\n",
      "Trial 20 summary\n",
      "Hyperparameters:\n",
      "units1: 3\n",
      "acttype: relu\n",
      "lr: 0.2742923480285484\n",
      "Score: 412.06812286376953\n"
     ]
    }
   ],
   "source": [
    "tuner.results_summary()"
   ]
  },
  {
   "cell_type": "code",
   "execution_count": 102,
   "metadata": {},
   "outputs": [
    {
     "name": "stdout",
     "output_type": "stream",
     "text": [
      "Model: \"sequential\"\n",
      "_________________________________________________________________\n",
      " Layer (type)                Output Shape              Param #   \n",
      "=================================================================\n",
      " dense (Dense)               (None, 12)                624       \n",
      "                                                                 \n",
      " dense_1 (Dense)             (None, 3)                 39        \n",
      "                                                                 \n",
      " dense_2 (Dense)             (None, 3)                 12        \n",
      "                                                                 \n",
      " dense_3 (Dense)             (None, 3)                 12        \n",
      "                                                                 \n",
      " dense_4 (Dense)             (None, 1)                 4         \n",
      "                                                                 \n",
      "=================================================================\n",
      "Total params: 691 (2.70 KB)\n",
      "Trainable params: 691 (2.70 KB)\n",
      "Non-trainable params: 0 (0.00 Byte)\n",
      "_________________________________________________________________\n"
     ]
    }
   ],
   "source": [
    "models = tuner.get_best_models(num_models=1)\n",
    "models[0].summary()"
   ]
  },
  {
   "cell_type": "code",
   "execution_count": 104,
   "metadata": {},
   "outputs": [
    {
     "name": "stdout",
     "output_type": "stream",
     "text": [
      "For our best model: \n",
      "\n",
      "20/20 [==============================] - 0s 1ms/step\n",
      "The MSE for the training data:  407.6795840293022\n",
      "5/5 [==============================] - 0s 2ms/step\n",
      "The MSE for the testing data:  344.07788384916205\n",
      "5/5 [==============================] - 0s 2ms/step\n",
      "The MSE for the validation data:  222.8351758414751\n"
     ]
    }
   ],
   "source": [
    "print(\"For our best model: \\n\")\n",
    "print(\"The MSE for the training data: \", mean_squared_error(y_train, models[0].predict(X_train)))\n",
    "print(\"The MSE for the testing data: \", mean_squared_error(y_test, models[0].predict(X_test)))\n",
    "print(\"The MSE for the validation data: \", mean_squared_error(y_val, models[0].predict(X_val)))"
   ]
  },
  {
   "cell_type": "markdown",
   "metadata": {},
   "source": [
    "# Results from Grid Search\n",
    "Trial 18 rendered the best predictions, with an MSE of 229.658, with Trial 47 and 46 coming in second and third respectively.\n",
    "\n",
    "```Results in tunerStore\\tunerInstance4\n",
    "Showing 10 best trials\n",
    "Objective(name=\"val_loss\", direction=\"min\")\n",
    "\n",
    "Trial 18 summary\n",
    "Hyperparameters:\n",
    "units1: 3\n",
    "acttype: relu\n",
    "lr: 0.19168293127388178\n",
    "Score: 229.6578369140625\n",
    "\n",
    "Trial 47 summary\n",
    "Hyperparameters:\n",
    "units1: 8\n",
    "acttype: relu\n",
    "lr: 0.07825422900366437\n",
    "Score: 232.19811248779297\n",
    "\n",
    "Trial 46 summary\n",
    "Hyperparameters:\n",
    "units1: 8\n",
    "acttype: relu\n",
    "lr: 0.0936101501762388\n",
    "Score: 400.6758041381836\n",
    "...\n",
    "units1: 3\n",
    "acttype: relu\n",
    "lr: 0.2742923480285484\n",
    "Score: 412.06812286376953\n",
    "\n",
    "```"
   ]
  },
  {
   "cell_type": "markdown",
   "metadata": {},
   "source": [
    "## Overfitting/Underfitting\n",
    "Based on the results of the best model's MSE: the MSE for the training data:  407.6795840293022, the MSE for the testing data:  344.07788384916205, and the MSE for the validation data:  222.8351758414751. We can conclude that the model is not overfitting since the MSE for the training data is not lower than the testing data."
   ]
  },
  {
   "cell_type": "code",
   "execution_count": 80,
   "metadata": {},
   "outputs": [
    {
     "name": "stdout",
     "output_type": "stream",
     "text": [
      "Fold 1 MSE for training: 800.3483\n",
      "Fold 1 MSE for testing: 659.3152\n",
      "Fold 2 MSE for training: 781.0257\n",
      "Fold 2 MSE for testing: 831.5279\n",
      "Fold 3 MSE for training: 780.2587\n",
      "Fold 3 MSE for testing: 838.4422\n",
      "Fold 4 MSE for training: 757.5928\n",
      "Fold 4 MSE for testing: 1042.7502\n",
      "Fold 5 MSE for training: 766.5234\n",
      "Fold 5 MSE for testing: 962.2502\n",
      "Fold 6 MSE for training: 759.6024\n",
      "Fold 6 MSE for testing: 1024.6353\n",
      "Fold 7 MSE for training: 793.1397\n",
      "Fold 7 MSE for testing: 722.3335\n",
      "Fold 8 MSE for training: 801.9471\n",
      "Fold 8 MSE for testing: 642.9446\n",
      "Fold 9 MSE for training: 809.1474\n",
      "Fold 9 MSE for testing: 578.0418\n",
      "Fold 10 MSE for training: 811.1258\n",
      "Fold 10 MSE for testing: 560.2088\n",
      "Average MSE for training: 786.0711\n",
      "Average MSE for training: 786.2450\n"
     ]
    }
   ],
   "source": [
    "from sklearn.metrics import accuracy_score, mean_squared_error\n",
    "from sklearn.metrics import multilabel_confusion_matrix\n",
    "from sklearn.model_selection import RepeatedKFold\n",
    "from tensorflow.keras.metrics import MeanSquaredError\n",
    "import numpy as np\n",
    "from scikeras.wrappers import KerasRegressor\n",
    "from sklearn.model_selection import RepeatedKFold, cross_val_score\n",
    "\n",
    "# Define the KFold parameters\n",
    "kfold = RepeatedKFold(n_splits=10, n_repeats=1, random_state=1)\n",
    "\n",
    "# Lists to store metrics for each fold\n",
    "mse_per_fold_training = []\n",
    "mse_per_fold_test = []\n",
    "\n",
    "y_train_np = y_train.values\n",
    "y_test_np = y_test.values\n",
    "\n",
    "j = 0\n",
    "\n",
    "# KFold Cross Validation\n",
    "for train, test in kfold.split(X_train, y_train_np):\n",
    "    # Create and compile the model\n",
    "    model = build_nn()\n",
    "\n",
    "    # Fit the model\n",
    "    estimator = KerasRegressor(model=build_nn, epochs=50, batch_size=5, verbose=0)\n",
    "    results = estimator.fit(X_train[train], y_train_np[train])\n",
    "\n",
    "    # Predict and calculate MSE\n",
    "    predictions_train = results.predict(X_train[train])\n",
    "    predictions_test = results.predict(X_train[test])\n",
    "\n",
    "    mse_train = mean_squared_error(y_train_np[train], predictions_train)\n",
    "    mse_test = mean_squared_error(y_train_np[test], predictions_test)\n",
    "\n",
    "    # Print metrics for this fold\n",
    "    # print(f\"Fold Accuracy: {acc*100:.2f}%\")\n",
    "    print(f\"Fold {j+1} MSE for training: {mse_train:.4f}\")\n",
    "    print(f\"Fold {j+1} MSE for testing: {mse_test:.4f}\")\n",
    "\n",
    "\n",
    "    # Append to the lists\n",
    "    # acc_per_fold.append(acc * 100)\n",
    "    mse_per_fold_test.append(mse_test)\n",
    "    mse_per_fold_training.append(mse_train)\n",
    "    j += 1\n",
    "\n",
    "\n",
    "# Calculate and print average metrics\n",
    "print(f\"Average MSE for training: {np.mean(mse_per_fold_training):.4f}\")\n",
    "print(f\"Average MSE for training: {np.mean(mse_per_fold_test):.4f}\")"
   ]
  },
  {
   "cell_type": "markdown",
   "metadata": {},
   "source": [
    "# Results from Cross Validation\n",
    "Based on the training and testing MSE of the original model, the Testing Mean Squared Error was 584.9784896957286 and the Training Mean Squared Error was 786.0688282061325. This indicates that the model is not overfitting so the cross validation results do not benefit the model. Since cross validation is primarily helpful when a model is overfitting, cross validation does not benefit the model.\n"
   ]
  },
  {
   "cell_type": "markdown",
   "metadata": {},
   "source": []
  }
 ],
 "metadata": {
  "kernelspec": {
   "display_name": "Python 3",
   "language": "python",
   "name": "python3"
  },
  "language_info": {
   "codemirror_mode": {
    "name": "ipython",
    "version": 3
   },
   "file_extension": ".py",
   "mimetype": "text/x-python",
   "name": "python",
   "nbconvert_exporter": "python",
   "pygments_lexer": "ipython3",
   "version": "3.9.6"
  }
 },
 "nbformat": 4,
 "nbformat_minor": 2
}
